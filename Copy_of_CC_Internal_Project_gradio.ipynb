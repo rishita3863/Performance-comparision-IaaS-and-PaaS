{
  "cells": [
    {
      "cell_type": "markdown",
      "metadata": {
        "id": "view-in-github",
        "colab_type": "text"
      },
      "source": [
        "<a href=\"https://colab.research.google.com/github/rishita3863/Performance-comparision-IaaS-and-PaaS/blob/main/Copy_of_CC_Internal_Project_gradio.ipynb\" target=\"_parent\"><img src=\"https://colab.research.google.com/assets/colab-badge.svg\" alt=\"Open In Colab\"/></a>"
      ]
    },
    {
      "cell_type": "code",
      "execution_count": 1,
      "metadata": {
        "colab": {
          "base_uri": "https://localhost:8080/"
        },
        "id": "ctSv17n4Secb",
        "outputId": "9f600fa2-f452-4200-c760-b882f307543d"
      },
      "outputs": [
        {
          "output_type": "stream",
          "name": "stdout",
          "text": [
            "Requirement already satisfied: psutil in /usr/local/lib/python3.12/dist-packages (5.9.5)\n",
            "Requirement already satisfied: requests in /usr/local/lib/python3.12/dist-packages (2.32.4)\n",
            "Requirement already satisfied: charset_normalizer<4,>=2 in /usr/local/lib/python3.12/dist-packages (from requests) (3.4.3)\n",
            "Requirement already satisfied: idna<4,>=2.5 in /usr/local/lib/python3.12/dist-packages (from requests) (3.10)\n",
            "Requirement already satisfied: urllib3<3,>=1.21.1 in /usr/local/lib/python3.12/dist-packages (from requests) (2.5.0)\n",
            "Requirement already satisfied: certifi>=2017.4.17 in /usr/local/lib/python3.12/dist-packages (from requests) (2025.10.5)\n"
          ]
        }
      ],
      "source": [
        "!pip install psutil requests\n"
      ]
    },
    {
      "cell_type": "code",
      "execution_count": 2,
      "metadata": {
        "id": "3xQoeClnSqHB"
      },
      "outputs": [],
      "source": [
        "import requests\n",
        "import time\n",
        "import psutil\n"
      ]
    },
    {
      "cell_type": "code",
      "execution_count": 3,
      "metadata": {
        "id": "zeUU1hmqSxyw"
      },
      "outputs": [],
      "source": [
        "IAAS_URL = \"https://httpbin.org/get\"\n",
        "PAAS_URL = \"https://jsonplaceholder.typicode.com/posts/1\""
      ]
    },
    {
      "cell_type": "code",
      "execution_count": 4,
      "metadata": {
        "id": "sQa8pLtnS_Tk"
      },
      "outputs": [],
      "source": [
        "def benchmark_service(url, num_requests=10):\n",
        "    response_times = []\n",
        "    cpu_usages = []\n",
        "    memory_usages = []\n",
        "\n",
        "    for i in range(num_requests):\n",
        "        # CPU and memory before request\n",
        "        cpu_before = psutil.cpu_percent(interval=None)\n",
        "        mem_before = psutil.virtual_memory().percent\n",
        "\n",
        "        # Send request and measure response time\n",
        "        start_time = time.time()\n",
        "        response = requests.get(url)\n",
        "        end_time = time.time()\n",
        "\n",
        "        # CPU and memory after request\n",
        "        cpu_after = psutil.cpu_percent(interval=None)\n",
        "        mem_after = psutil.virtual_memory().percent\n",
        "\n",
        "        # Calculate response time in ms\n",
        "        resp_time = (end_time - start_time) * 1000\n",
        "\n",
        "        # Save values\n",
        "        response_times.append(resp_time)\n",
        "        cpu_usages.append((cpu_before + cpu_after) / 2)\n",
        "        memory_usages.append((mem_before + mem_after) / 2)\n",
        "\n",
        "        print(f\"Request {i+1}: {resp_time:.2f} ms | CPU {cpu_usages[-1]:.2f}% | Memory {memory_usages[-1]:.2f}%\")\n",
        "\n",
        "    # Average values\n",
        "    avg_response = sum(response_times) / len(response_times)\n",
        "    avg_cpu = sum(cpu_usages) / len(cpu_usages)\n",
        "    avg_memory = sum(memory_usages) / len(memory_usages)\n",
        "\n",
        "    return avg_response, avg_cpu, avg_memory\n"
      ]
    },
    {
      "cell_type": "code",
      "execution_count": 5,
      "metadata": {
        "colab": {
          "base_uri": "https://localhost:8080/"
        },
        "id": "283J_ykgTElQ",
        "outputId": "f3cc72c7-6fea-4ceb-8353-c55d466471c8"
      },
      "outputs": [
        {
          "output_type": "stream",
          "name": "stdout",
          "text": [
            "Benchmarking IaaS...\n",
            "Request 1: 375.98 ms | CPU 86.85% | Memory 8.00%\n",
            "Request 2: 655.67 ms | CPU 18.20% | Memory 8.15%\n",
            "Request 3: 3873.11 ms | CPU 38.15% | Memory 8.75%\n",
            "Request 4: 361.99 ms | CPU 85.40% | Memory 9.35%\n",
            "Request 5: 1004.33 ms | CPU 41.80% | Memory 9.50%\n",
            "Request 6: 258.64 ms | CPU 43.25% | Memory 9.65%\n",
            "Request 7: 499.19 ms | CPU 41.50% | Memory 9.80%\n",
            "Request 8: 279.61 ms | CPU 97.25% | Memory 9.95%\n",
            "Request 9: 660.87 ms | CPU 94.30% | Memory 10.15%\n",
            "Request 10: 1032.92 ms | CPU 38.80% | Memory 10.45%\n",
            "\n",
            "Benchmarking PaaS...\n",
            "Request 1: 46.89 ms | CPU 4.55% | Memory 10.60%\n",
            "Request 2: 30.96 ms | CPU 14.30% | Memory 10.60%\n",
            "Request 3: 36.52 ms | CPU 6.25% | Memory 10.60%\n",
            "Request 4: 34.53 ms | CPU 0.00% | Memory 10.60%\n",
            "Request 5: 36.61 ms | CPU 6.25% | Memory 10.60%\n",
            "Request 6: 31.26 ms | CPU 0.00% | Memory 10.60%\n",
            "Request 7: 29.48 ms | CPU 8.35% | Memory 10.60%\n",
            "Request 8: 35.79 ms | CPU 0.00% | Memory 10.60%\n",
            "Request 9: 29.83 ms | CPU 8.35% | Memory 10.60%\n",
            "Request 10: 36.06 ms | CPU 0.00% | Memory 10.60%\n"
          ]
        }
      ],
      "source": [
        "print(\"Benchmarking IaaS...\")\n",
        "iaas_results = benchmark_service(IAAS_URL, num_requests=10)\n",
        "\n",
        "print(\"\\nBenchmarking PaaS...\")\n",
        "paas_results = benchmark_service(PAAS_URL, num_requests=10)\n"
      ]
    },
    {
      "cell_type": "code",
      "execution_count": 6,
      "metadata": {
        "colab": {
          "base_uri": "https://localhost:8080/"
        },
        "id": "6QZYfmJfTN7m",
        "outputId": "068af88d-c157-4702-c32d-5b424a2b5df5"
      },
      "outputs": [
        {
          "output_type": "stream",
          "name": "stdout",
          "text": [
            "\n",
            "=== Final Comparison ===\n",
            "IaaS -> Response: 900.23 ms | CPU: 58.55% | Memory: 9.38%\n",
            "PaaS -> Response: 34.79 ms | CPU: 4.80% | Memory: 10.60%\n"
          ]
        }
      ],
      "source": [
        "print(\"\\n=== Final Comparison ===\")\n",
        "print(f\"IaaS -> Response: {iaas_results[0]:.2f} ms | CPU: {iaas_results[1]:.2f}% | Memory: {iaas_results[2]:.2f}%\")\n",
        "print(f\"PaaS -> Response: {paas_results[0]:.2f} ms | CPU: {paas_results[1]:.2f}% | Memory: {paas_results[2]:.2f}%\")\n"
      ]
    },
    {
      "cell_type": "code",
      "execution_count": 7,
      "metadata": {
        "colab": {
          "base_uri": "https://localhost:8080/"
        },
        "id": "xAFAImrwTZjw",
        "outputId": "c0587fce-f7a0-4138-8b23-e41514fae4c6"
      },
      "outputs": [
        {
          "output_type": "stream",
          "name": "stdout",
          "text": [
            "Requirement already satisfied: plotly in /usr/local/lib/python3.12/dist-packages (5.24.1)\n",
            "Requirement already satisfied: tenacity>=6.2.0 in /usr/local/lib/python3.12/dist-packages (from plotly) (8.5.0)\n",
            "Requirement already satisfied: packaging in /usr/local/lib/python3.12/dist-packages (from plotly) (25.0)\n"
          ]
        }
      ],
      "source": [
        "!pip install plotly\n"
      ]
    },
    {
      "cell_type": "code",
      "execution_count": 8,
      "metadata": {
        "id": "y_M9gONuTdnu"
      },
      "outputs": [],
      "source": [
        "results = {\n",
        "    \"IaaS\": {\n",
        "        \"Response Time (ms)\": iaas_results[0],\n",
        "        \"CPU Usage (%)\": iaas_results[1],\n",
        "        \"Memory Usage (%)\": iaas_results[2]\n",
        "    },\n",
        "    \"PaaS\": {\n",
        "        \"Response Time (ms)\": paas_results[0],\n",
        "        \"CPU Usage (%)\": paas_results[1],\n",
        "        \"Memory Usage (%)\": paas_results[2]\n",
        "    }\n",
        "}\n"
      ]
    },
    {
      "cell_type": "code",
      "execution_count": 9,
      "metadata": {
        "colab": {
          "base_uri": "https://localhost:8080/",
          "height": 542
        },
        "id": "ZQrZ0XAAThV1",
        "outputId": "603811da-a91a-4afc-d039-e1d984971d0e"
      },
      "outputs": [
        {
          "output_type": "display_data",
          "data": {
            "text/html": [
              "<html>\n",
              "<head><meta charset=\"utf-8\" /></head>\n",
              "<body>\n",
              "    <div>            <script src=\"https://cdnjs.cloudflare.com/ajax/libs/mathjax/2.7.5/MathJax.js?config=TeX-AMS-MML_SVG\"></script><script type=\"text/javascript\">if (window.MathJax && window.MathJax.Hub && window.MathJax.Hub.Config) {window.MathJax.Hub.Config({SVG: {font: \"STIX-Web\"}});}</script>                <script type=\"text/javascript\">window.PlotlyConfig = {MathJaxConfig: 'local'};</script>\n",
              "        <script charset=\"utf-8\" src=\"https://cdn.plot.ly/plotly-2.35.2.min.js\"></script>                <div id=\"185dd52b-aef6-4516-9aa5-9e8843016305\" class=\"plotly-graph-div\" style=\"height:525px; width:100%;\"></div>            <script type=\"text/javascript\">                                    window.PLOTLYENV=window.PLOTLYENV || {};                                    if (document.getElementById(\"185dd52b-aef6-4516-9aa5-9e8843016305\")) {                    Plotly.newPlot(                        \"185dd52b-aef6-4516-9aa5-9e8843016305\",                        [{\"marker\":{\"color\":\"blue\"},\"name\":\"IaaS\",\"x\":[\"Response Time (ms)\",\"CPU Usage (%)\",\"Memory Usage (%)\"],\"y\":[900.2317428588867,58.55,9.375],\"type\":\"bar\"},{\"marker\":{\"color\":\"green\"},\"name\":\"PaaS\",\"x\":[\"Response Time (ms)\",\"CPU Usage (%)\",\"Memory Usage (%)\"],\"y\":[34.79294776916504,4.805,10.6],\"type\":\"bar\"}],                        {\"template\":{\"data\":{\"barpolar\":[{\"marker\":{\"line\":{\"color\":\"white\",\"width\":0.5},\"pattern\":{\"fillmode\":\"overlay\",\"size\":10,\"solidity\":0.2}},\"type\":\"barpolar\"}],\"bar\":[{\"error_x\":{\"color\":\"#2a3f5f\"},\"error_y\":{\"color\":\"#2a3f5f\"},\"marker\":{\"line\":{\"color\":\"white\",\"width\":0.5},\"pattern\":{\"fillmode\":\"overlay\",\"size\":10,\"solidity\":0.2}},\"type\":\"bar\"}],\"carpet\":[{\"aaxis\":{\"endlinecolor\":\"#2a3f5f\",\"gridcolor\":\"#C8D4E3\",\"linecolor\":\"#C8D4E3\",\"minorgridcolor\":\"#C8D4E3\",\"startlinecolor\":\"#2a3f5f\"},\"baxis\":{\"endlinecolor\":\"#2a3f5f\",\"gridcolor\":\"#C8D4E3\",\"linecolor\":\"#C8D4E3\",\"minorgridcolor\":\"#C8D4E3\",\"startlinecolor\":\"#2a3f5f\"},\"type\":\"carpet\"}],\"choropleth\":[{\"colorbar\":{\"outlinewidth\":0,\"ticks\":\"\"},\"type\":\"choropleth\"}],\"contourcarpet\":[{\"colorbar\":{\"outlinewidth\":0,\"ticks\":\"\"},\"type\":\"contourcarpet\"}],\"contour\":[{\"colorbar\":{\"outlinewidth\":0,\"ticks\":\"\"},\"colorscale\":[[0.0,\"#0d0887\"],[0.1111111111111111,\"#46039f\"],[0.2222222222222222,\"#7201a8\"],[0.3333333333333333,\"#9c179e\"],[0.4444444444444444,\"#bd3786\"],[0.5555555555555556,\"#d8576b\"],[0.6666666666666666,\"#ed7953\"],[0.7777777777777778,\"#fb9f3a\"],[0.8888888888888888,\"#fdca26\"],[1.0,\"#f0f921\"]],\"type\":\"contour\"}],\"heatmapgl\":[{\"colorbar\":{\"outlinewidth\":0,\"ticks\":\"\"},\"colorscale\":[[0.0,\"#0d0887\"],[0.1111111111111111,\"#46039f\"],[0.2222222222222222,\"#7201a8\"],[0.3333333333333333,\"#9c179e\"],[0.4444444444444444,\"#bd3786\"],[0.5555555555555556,\"#d8576b\"],[0.6666666666666666,\"#ed7953\"],[0.7777777777777778,\"#fb9f3a\"],[0.8888888888888888,\"#fdca26\"],[1.0,\"#f0f921\"]],\"type\":\"heatmapgl\"}],\"heatmap\":[{\"colorbar\":{\"outlinewidth\":0,\"ticks\":\"\"},\"colorscale\":[[0.0,\"#0d0887\"],[0.1111111111111111,\"#46039f\"],[0.2222222222222222,\"#7201a8\"],[0.3333333333333333,\"#9c179e\"],[0.4444444444444444,\"#bd3786\"],[0.5555555555555556,\"#d8576b\"],[0.6666666666666666,\"#ed7953\"],[0.7777777777777778,\"#fb9f3a\"],[0.8888888888888888,\"#fdca26\"],[1.0,\"#f0f921\"]],\"type\":\"heatmap\"}],\"histogram2dcontour\":[{\"colorbar\":{\"outlinewidth\":0,\"ticks\":\"\"},\"colorscale\":[[0.0,\"#0d0887\"],[0.1111111111111111,\"#46039f\"],[0.2222222222222222,\"#7201a8\"],[0.3333333333333333,\"#9c179e\"],[0.4444444444444444,\"#bd3786\"],[0.5555555555555556,\"#d8576b\"],[0.6666666666666666,\"#ed7953\"],[0.7777777777777778,\"#fb9f3a\"],[0.8888888888888888,\"#fdca26\"],[1.0,\"#f0f921\"]],\"type\":\"histogram2dcontour\"}],\"histogram2d\":[{\"colorbar\":{\"outlinewidth\":0,\"ticks\":\"\"},\"colorscale\":[[0.0,\"#0d0887\"],[0.1111111111111111,\"#46039f\"],[0.2222222222222222,\"#7201a8\"],[0.3333333333333333,\"#9c179e\"],[0.4444444444444444,\"#bd3786\"],[0.5555555555555556,\"#d8576b\"],[0.6666666666666666,\"#ed7953\"],[0.7777777777777778,\"#fb9f3a\"],[0.8888888888888888,\"#fdca26\"],[1.0,\"#f0f921\"]],\"type\":\"histogram2d\"}],\"histogram\":[{\"marker\":{\"pattern\":{\"fillmode\":\"overlay\",\"size\":10,\"solidity\":0.2}},\"type\":\"histogram\"}],\"mesh3d\":[{\"colorbar\":{\"outlinewidth\":0,\"ticks\":\"\"},\"type\":\"mesh3d\"}],\"parcoords\":[{\"line\":{\"colorbar\":{\"outlinewidth\":0,\"ticks\":\"\"}},\"type\":\"parcoords\"}],\"pie\":[{\"automargin\":true,\"type\":\"pie\"}],\"scatter3d\":[{\"line\":{\"colorbar\":{\"outlinewidth\":0,\"ticks\":\"\"}},\"marker\":{\"colorbar\":{\"outlinewidth\":0,\"ticks\":\"\"}},\"type\":\"scatter3d\"}],\"scattercarpet\":[{\"marker\":{\"colorbar\":{\"outlinewidth\":0,\"ticks\":\"\"}},\"type\":\"scattercarpet\"}],\"scattergeo\":[{\"marker\":{\"colorbar\":{\"outlinewidth\":0,\"ticks\":\"\"}},\"type\":\"scattergeo\"}],\"scattergl\":[{\"marker\":{\"colorbar\":{\"outlinewidth\":0,\"ticks\":\"\"}},\"type\":\"scattergl\"}],\"scattermapbox\":[{\"marker\":{\"colorbar\":{\"outlinewidth\":0,\"ticks\":\"\"}},\"type\":\"scattermapbox\"}],\"scatterpolargl\":[{\"marker\":{\"colorbar\":{\"outlinewidth\":0,\"ticks\":\"\"}},\"type\":\"scatterpolargl\"}],\"scatterpolar\":[{\"marker\":{\"colorbar\":{\"outlinewidth\":0,\"ticks\":\"\"}},\"type\":\"scatterpolar\"}],\"scatter\":[{\"fillpattern\":{\"fillmode\":\"overlay\",\"size\":10,\"solidity\":0.2},\"type\":\"scatter\"}],\"scatterternary\":[{\"marker\":{\"colorbar\":{\"outlinewidth\":0,\"ticks\":\"\"}},\"type\":\"scatterternary\"}],\"surface\":[{\"colorbar\":{\"outlinewidth\":0,\"ticks\":\"\"},\"colorscale\":[[0.0,\"#0d0887\"],[0.1111111111111111,\"#46039f\"],[0.2222222222222222,\"#7201a8\"],[0.3333333333333333,\"#9c179e\"],[0.4444444444444444,\"#bd3786\"],[0.5555555555555556,\"#d8576b\"],[0.6666666666666666,\"#ed7953\"],[0.7777777777777778,\"#fb9f3a\"],[0.8888888888888888,\"#fdca26\"],[1.0,\"#f0f921\"]],\"type\":\"surface\"}],\"table\":[{\"cells\":{\"fill\":{\"color\":\"#EBF0F8\"},\"line\":{\"color\":\"white\"}},\"header\":{\"fill\":{\"color\":\"#C8D4E3\"},\"line\":{\"color\":\"white\"}},\"type\":\"table\"}]},\"layout\":{\"annotationdefaults\":{\"arrowcolor\":\"#2a3f5f\",\"arrowhead\":0,\"arrowwidth\":1},\"autotypenumbers\":\"strict\",\"coloraxis\":{\"colorbar\":{\"outlinewidth\":0,\"ticks\":\"\"}},\"colorscale\":{\"diverging\":[[0,\"#8e0152\"],[0.1,\"#c51b7d\"],[0.2,\"#de77ae\"],[0.3,\"#f1b6da\"],[0.4,\"#fde0ef\"],[0.5,\"#f7f7f7\"],[0.6,\"#e6f5d0\"],[0.7,\"#b8e186\"],[0.8,\"#7fbc41\"],[0.9,\"#4d9221\"],[1,\"#276419\"]],\"sequential\":[[0.0,\"#0d0887\"],[0.1111111111111111,\"#46039f\"],[0.2222222222222222,\"#7201a8\"],[0.3333333333333333,\"#9c179e\"],[0.4444444444444444,\"#bd3786\"],[0.5555555555555556,\"#d8576b\"],[0.6666666666666666,\"#ed7953\"],[0.7777777777777778,\"#fb9f3a\"],[0.8888888888888888,\"#fdca26\"],[1.0,\"#f0f921\"]],\"sequentialminus\":[[0.0,\"#0d0887\"],[0.1111111111111111,\"#46039f\"],[0.2222222222222222,\"#7201a8\"],[0.3333333333333333,\"#9c179e\"],[0.4444444444444444,\"#bd3786\"],[0.5555555555555556,\"#d8576b\"],[0.6666666666666666,\"#ed7953\"],[0.7777777777777778,\"#fb9f3a\"],[0.8888888888888888,\"#fdca26\"],[1.0,\"#f0f921\"]]},\"colorway\":[\"#636efa\",\"#EF553B\",\"#00cc96\",\"#ab63fa\",\"#FFA15A\",\"#19d3f3\",\"#FF6692\",\"#B6E880\",\"#FF97FF\",\"#FECB52\"],\"font\":{\"color\":\"#2a3f5f\"},\"geo\":{\"bgcolor\":\"white\",\"lakecolor\":\"white\",\"landcolor\":\"white\",\"showlakes\":true,\"showland\":true,\"subunitcolor\":\"#C8D4E3\"},\"hoverlabel\":{\"align\":\"left\"},\"hovermode\":\"closest\",\"mapbox\":{\"style\":\"light\"},\"paper_bgcolor\":\"white\",\"plot_bgcolor\":\"white\",\"polar\":{\"angularaxis\":{\"gridcolor\":\"#EBF0F8\",\"linecolor\":\"#EBF0F8\",\"ticks\":\"\"},\"bgcolor\":\"white\",\"radialaxis\":{\"gridcolor\":\"#EBF0F8\",\"linecolor\":\"#EBF0F8\",\"ticks\":\"\"}},\"scene\":{\"xaxis\":{\"backgroundcolor\":\"white\",\"gridcolor\":\"#DFE8F3\",\"gridwidth\":2,\"linecolor\":\"#EBF0F8\",\"showbackground\":true,\"ticks\":\"\",\"zerolinecolor\":\"#EBF0F8\"},\"yaxis\":{\"backgroundcolor\":\"white\",\"gridcolor\":\"#DFE8F3\",\"gridwidth\":2,\"linecolor\":\"#EBF0F8\",\"showbackground\":true,\"ticks\":\"\",\"zerolinecolor\":\"#EBF0F8\"},\"zaxis\":{\"backgroundcolor\":\"white\",\"gridcolor\":\"#DFE8F3\",\"gridwidth\":2,\"linecolor\":\"#EBF0F8\",\"showbackground\":true,\"ticks\":\"\",\"zerolinecolor\":\"#EBF0F8\"}},\"shapedefaults\":{\"line\":{\"color\":\"#2a3f5f\"}},\"ternary\":{\"aaxis\":{\"gridcolor\":\"#DFE8F3\",\"linecolor\":\"#A2B1C6\",\"ticks\":\"\"},\"baxis\":{\"gridcolor\":\"#DFE8F3\",\"linecolor\":\"#A2B1C6\",\"ticks\":\"\"},\"bgcolor\":\"white\",\"caxis\":{\"gridcolor\":\"#DFE8F3\",\"linecolor\":\"#A2B1C6\",\"ticks\":\"\"}},\"title\":{\"x\":0.05},\"xaxis\":{\"automargin\":true,\"gridcolor\":\"#EBF0F8\",\"linecolor\":\"#EBF0F8\",\"ticks\":\"\",\"title\":{\"standoff\":15},\"zerolinecolor\":\"#EBF0F8\",\"zerolinewidth\":2},\"yaxis\":{\"automargin\":true,\"gridcolor\":\"#EBF0F8\",\"linecolor\":\"#EBF0F8\",\"ticks\":\"\",\"title\":{\"standoff\":15},\"zerolinecolor\":\"#EBF0F8\",\"zerolinewidth\":2}}},\"title\":{\"text\":\"IaaS vs PaaS Performance Comparison\"},\"xaxis\":{\"title\":{\"text\":\"Metrics\"}},\"yaxis\":{\"title\":{\"text\":\"Values\"}},\"barmode\":\"group\"},                        {\"responsive\": true}                    ).then(function(){\n",
              "                            \n",
              "var gd = document.getElementById('185dd52b-aef6-4516-9aa5-9e8843016305');\n",
              "var x = new MutationObserver(function (mutations, observer) {{\n",
              "        var display = window.getComputedStyle(gd).display;\n",
              "        if (!display || display === 'none') {{\n",
              "            console.log([gd, 'removed!']);\n",
              "            Plotly.purge(gd);\n",
              "            observer.disconnect();\n",
              "        }}\n",
              "}});\n",
              "\n",
              "// Listen for the removal of the full notebook cells\n",
              "var notebookContainer = gd.closest('#notebook-container');\n",
              "if (notebookContainer) {{\n",
              "    x.observe(notebookContainer, {childList: true});\n",
              "}}\n",
              "\n",
              "// Listen for the clearing of the current output cell\n",
              "var outputEl = gd.closest('.output');\n",
              "if (outputEl) {{\n",
              "    x.observe(outputEl, {childList: true});\n",
              "}}\n",
              "\n",
              "                        })                };                            </script>        </div>\n",
              "</body>\n",
              "</html>"
            ]
          },
          "metadata": {}
        }
      ],
      "source": [
        "import plotly.graph_objects as go\n",
        "\n",
        "# Prepare data\n",
        "categories = [\"Response Time (ms)\", \"CPU Usage (%)\", \"Memory Usage (%)\"]\n",
        "iaas_values = [results[\"IaaS\"][cat] for cat in categories]\n",
        "paas_values = [results[\"PaaS\"][cat] for cat in categories]\n",
        "\n",
        "# Create bar chart\n",
        "fig = go.Figure(data=[\n",
        "    go.Bar(name=\"IaaS\", x=categories, y=iaas_values, marker_color=\"blue\"),\n",
        "    go.Bar(name=\"PaaS\", x=categories, y=paas_values, marker_color=\"green\")\n",
        "])\n",
        "\n",
        "# Update layout\n",
        "fig.update_layout(\n",
        "    title=\"IaaS vs PaaS Performance Comparison\",\n",
        "    xaxis_title=\"Metrics\",\n",
        "    yaxis_title=\"Values\",\n",
        "    barmode=\"group\",\n",
        "    template=\"plotly_white\"\n",
        ")\n",
        "\n",
        "# Show in Colab\n",
        "fig.show()\n"
      ]
    },
    {
      "cell_type": "code",
      "execution_count": 10,
      "metadata": {
        "colab": {
          "base_uri": "https://localhost:8080/",
          "height": 542
        },
        "id": "QGKuengxTrhG",
        "outputId": "1c57f1e7-331c-4b04-b961-4ae2f3a790a6"
      },
      "outputs": [
        {
          "output_type": "display_data",
          "data": {
            "text/html": [
              "<html>\n",
              "<head><meta charset=\"utf-8\" /></head>\n",
              "<body>\n",
              "    <div>            <script src=\"https://cdnjs.cloudflare.com/ajax/libs/mathjax/2.7.5/MathJax.js?config=TeX-AMS-MML_SVG\"></script><script type=\"text/javascript\">if (window.MathJax && window.MathJax.Hub && window.MathJax.Hub.Config) {window.MathJax.Hub.Config({SVG: {font: \"STIX-Web\"}});}</script>                <script type=\"text/javascript\">window.PlotlyConfig = {MathJaxConfig: 'local'};</script>\n",
              "        <script charset=\"utf-8\" src=\"https://cdn.plot.ly/plotly-2.35.2.min.js\"></script>                <div id=\"e193f98a-b5d1-4bf8-8637-f317dd623567\" class=\"plotly-graph-div\" style=\"height:525px; width:100%;\"></div>            <script type=\"text/javascript\">                                    window.PLOTLYENV=window.PLOTLYENV || {};                                    if (document.getElementById(\"e193f98a-b5d1-4bf8-8637-f317dd623567\")) {                    Plotly.newPlot(                        \"e193f98a-b5d1-4bf8-8637-f317dd623567\",                        [{\"marker\":{\"color\":\"blue\"},\"name\":\"IaaS\",\"x\":[\"Response Time (ms)\",\"CPU Usage (%)\",\"Memory Usage (%)\"],\"y\":[900.2317428588867,58.55,9.375],\"type\":\"bar\",\"xaxis\":\"x\",\"yaxis\":\"y\"},{\"marker\":{\"color\":\"green\"},\"name\":\"PaaS\",\"x\":[\"Response Time (ms)\",\"CPU Usage (%)\",\"Memory Usage (%)\"],\"y\":[34.79294776916504,4.805,10.6],\"type\":\"bar\",\"xaxis\":\"x\",\"yaxis\":\"y\"},{\"cells\":{\"align\":\"center\",\"values\":[[\"Response Time (ms)\",\"CPU Usage (%)\",\"Memory Usage (%)\"],[900.2317428588867,58.55,9.375],[34.79294776916504,4.805,10.6]]},\"header\":{\"align\":\"center\",\"fill\":{\"color\":\"lightgrey\"},\"values\":[\"Metric\",\"IaaS\",\"PaaS\"]},\"type\":\"table\",\"domain\":{\"x\":[0.0,1.0],\"y\":[0.0,0.375]}}],                        {\"template\":{\"data\":{\"barpolar\":[{\"marker\":{\"line\":{\"color\":\"white\",\"width\":0.5},\"pattern\":{\"fillmode\":\"overlay\",\"size\":10,\"solidity\":0.2}},\"type\":\"barpolar\"}],\"bar\":[{\"error_x\":{\"color\":\"#2a3f5f\"},\"error_y\":{\"color\":\"#2a3f5f\"},\"marker\":{\"line\":{\"color\":\"white\",\"width\":0.5},\"pattern\":{\"fillmode\":\"overlay\",\"size\":10,\"solidity\":0.2}},\"type\":\"bar\"}],\"carpet\":[{\"aaxis\":{\"endlinecolor\":\"#2a3f5f\",\"gridcolor\":\"#C8D4E3\",\"linecolor\":\"#C8D4E3\",\"minorgridcolor\":\"#C8D4E3\",\"startlinecolor\":\"#2a3f5f\"},\"baxis\":{\"endlinecolor\":\"#2a3f5f\",\"gridcolor\":\"#C8D4E3\",\"linecolor\":\"#C8D4E3\",\"minorgridcolor\":\"#C8D4E3\",\"startlinecolor\":\"#2a3f5f\"},\"type\":\"carpet\"}],\"choropleth\":[{\"colorbar\":{\"outlinewidth\":0,\"ticks\":\"\"},\"type\":\"choropleth\"}],\"contourcarpet\":[{\"colorbar\":{\"outlinewidth\":0,\"ticks\":\"\"},\"type\":\"contourcarpet\"}],\"contour\":[{\"colorbar\":{\"outlinewidth\":0,\"ticks\":\"\"},\"colorscale\":[[0.0,\"#0d0887\"],[0.1111111111111111,\"#46039f\"],[0.2222222222222222,\"#7201a8\"],[0.3333333333333333,\"#9c179e\"],[0.4444444444444444,\"#bd3786\"],[0.5555555555555556,\"#d8576b\"],[0.6666666666666666,\"#ed7953\"],[0.7777777777777778,\"#fb9f3a\"],[0.8888888888888888,\"#fdca26\"],[1.0,\"#f0f921\"]],\"type\":\"contour\"}],\"heatmapgl\":[{\"colorbar\":{\"outlinewidth\":0,\"ticks\":\"\"},\"colorscale\":[[0.0,\"#0d0887\"],[0.1111111111111111,\"#46039f\"],[0.2222222222222222,\"#7201a8\"],[0.3333333333333333,\"#9c179e\"],[0.4444444444444444,\"#bd3786\"],[0.5555555555555556,\"#d8576b\"],[0.6666666666666666,\"#ed7953\"],[0.7777777777777778,\"#fb9f3a\"],[0.8888888888888888,\"#fdca26\"],[1.0,\"#f0f921\"]],\"type\":\"heatmapgl\"}],\"heatmap\":[{\"colorbar\":{\"outlinewidth\":0,\"ticks\":\"\"},\"colorscale\":[[0.0,\"#0d0887\"],[0.1111111111111111,\"#46039f\"],[0.2222222222222222,\"#7201a8\"],[0.3333333333333333,\"#9c179e\"],[0.4444444444444444,\"#bd3786\"],[0.5555555555555556,\"#d8576b\"],[0.6666666666666666,\"#ed7953\"],[0.7777777777777778,\"#fb9f3a\"],[0.8888888888888888,\"#fdca26\"],[1.0,\"#f0f921\"]],\"type\":\"heatmap\"}],\"histogram2dcontour\":[{\"colorbar\":{\"outlinewidth\":0,\"ticks\":\"\"},\"colorscale\":[[0.0,\"#0d0887\"],[0.1111111111111111,\"#46039f\"],[0.2222222222222222,\"#7201a8\"],[0.3333333333333333,\"#9c179e\"],[0.4444444444444444,\"#bd3786\"],[0.5555555555555556,\"#d8576b\"],[0.6666666666666666,\"#ed7953\"],[0.7777777777777778,\"#fb9f3a\"],[0.8888888888888888,\"#fdca26\"],[1.0,\"#f0f921\"]],\"type\":\"histogram2dcontour\"}],\"histogram2d\":[{\"colorbar\":{\"outlinewidth\":0,\"ticks\":\"\"},\"colorscale\":[[0.0,\"#0d0887\"],[0.1111111111111111,\"#46039f\"],[0.2222222222222222,\"#7201a8\"],[0.3333333333333333,\"#9c179e\"],[0.4444444444444444,\"#bd3786\"],[0.5555555555555556,\"#d8576b\"],[0.6666666666666666,\"#ed7953\"],[0.7777777777777778,\"#fb9f3a\"],[0.8888888888888888,\"#fdca26\"],[1.0,\"#f0f921\"]],\"type\":\"histogram2d\"}],\"histogram\":[{\"marker\":{\"pattern\":{\"fillmode\":\"overlay\",\"size\":10,\"solidity\":0.2}},\"type\":\"histogram\"}],\"mesh3d\":[{\"colorbar\":{\"outlinewidth\":0,\"ticks\":\"\"},\"type\":\"mesh3d\"}],\"parcoords\":[{\"line\":{\"colorbar\":{\"outlinewidth\":0,\"ticks\":\"\"}},\"type\":\"parcoords\"}],\"pie\":[{\"automargin\":true,\"type\":\"pie\"}],\"scatter3d\":[{\"line\":{\"colorbar\":{\"outlinewidth\":0,\"ticks\":\"\"}},\"marker\":{\"colorbar\":{\"outlinewidth\":0,\"ticks\":\"\"}},\"type\":\"scatter3d\"}],\"scattercarpet\":[{\"marker\":{\"colorbar\":{\"outlinewidth\":0,\"ticks\":\"\"}},\"type\":\"scattercarpet\"}],\"scattergeo\":[{\"marker\":{\"colorbar\":{\"outlinewidth\":0,\"ticks\":\"\"}},\"type\":\"scattergeo\"}],\"scattergl\":[{\"marker\":{\"colorbar\":{\"outlinewidth\":0,\"ticks\":\"\"}},\"type\":\"scattergl\"}],\"scattermapbox\":[{\"marker\":{\"colorbar\":{\"outlinewidth\":0,\"ticks\":\"\"}},\"type\":\"scattermapbox\"}],\"scatterpolargl\":[{\"marker\":{\"colorbar\":{\"outlinewidth\":0,\"ticks\":\"\"}},\"type\":\"scatterpolargl\"}],\"scatterpolar\":[{\"marker\":{\"colorbar\":{\"outlinewidth\":0,\"ticks\":\"\"}},\"type\":\"scatterpolar\"}],\"scatter\":[{\"fillpattern\":{\"fillmode\":\"overlay\",\"size\":10,\"solidity\":0.2},\"type\":\"scatter\"}],\"scatterternary\":[{\"marker\":{\"colorbar\":{\"outlinewidth\":0,\"ticks\":\"\"}},\"type\":\"scatterternary\"}],\"surface\":[{\"colorbar\":{\"outlinewidth\":0,\"ticks\":\"\"},\"colorscale\":[[0.0,\"#0d0887\"],[0.1111111111111111,\"#46039f\"],[0.2222222222222222,\"#7201a8\"],[0.3333333333333333,\"#9c179e\"],[0.4444444444444444,\"#bd3786\"],[0.5555555555555556,\"#d8576b\"],[0.6666666666666666,\"#ed7953\"],[0.7777777777777778,\"#fb9f3a\"],[0.8888888888888888,\"#fdca26\"],[1.0,\"#f0f921\"]],\"type\":\"surface\"}],\"table\":[{\"cells\":{\"fill\":{\"color\":\"#EBF0F8\"},\"line\":{\"color\":\"white\"}},\"header\":{\"fill\":{\"color\":\"#C8D4E3\"},\"line\":{\"color\":\"white\"}},\"type\":\"table\"}]},\"layout\":{\"annotationdefaults\":{\"arrowcolor\":\"#2a3f5f\",\"arrowhead\":0,\"arrowwidth\":1},\"autotypenumbers\":\"strict\",\"coloraxis\":{\"colorbar\":{\"outlinewidth\":0,\"ticks\":\"\"}},\"colorscale\":{\"diverging\":[[0,\"#8e0152\"],[0.1,\"#c51b7d\"],[0.2,\"#de77ae\"],[0.3,\"#f1b6da\"],[0.4,\"#fde0ef\"],[0.5,\"#f7f7f7\"],[0.6,\"#e6f5d0\"],[0.7,\"#b8e186\"],[0.8,\"#7fbc41\"],[0.9,\"#4d9221\"],[1,\"#276419\"]],\"sequential\":[[0.0,\"#0d0887\"],[0.1111111111111111,\"#46039f\"],[0.2222222222222222,\"#7201a8\"],[0.3333333333333333,\"#9c179e\"],[0.4444444444444444,\"#bd3786\"],[0.5555555555555556,\"#d8576b\"],[0.6666666666666666,\"#ed7953\"],[0.7777777777777778,\"#fb9f3a\"],[0.8888888888888888,\"#fdca26\"],[1.0,\"#f0f921\"]],\"sequentialminus\":[[0.0,\"#0d0887\"],[0.1111111111111111,\"#46039f\"],[0.2222222222222222,\"#7201a8\"],[0.3333333333333333,\"#9c179e\"],[0.4444444444444444,\"#bd3786\"],[0.5555555555555556,\"#d8576b\"],[0.6666666666666666,\"#ed7953\"],[0.7777777777777778,\"#fb9f3a\"],[0.8888888888888888,\"#fdca26\"],[1.0,\"#f0f921\"]]},\"colorway\":[\"#636efa\",\"#EF553B\",\"#00cc96\",\"#ab63fa\",\"#FFA15A\",\"#19d3f3\",\"#FF6692\",\"#B6E880\",\"#FF97FF\",\"#FECB52\"],\"font\":{\"color\":\"#2a3f5f\"},\"geo\":{\"bgcolor\":\"white\",\"lakecolor\":\"white\",\"landcolor\":\"white\",\"showlakes\":true,\"showland\":true,\"subunitcolor\":\"#C8D4E3\"},\"hoverlabel\":{\"align\":\"left\"},\"hovermode\":\"closest\",\"mapbox\":{\"style\":\"light\"},\"paper_bgcolor\":\"white\",\"plot_bgcolor\":\"white\",\"polar\":{\"angularaxis\":{\"gridcolor\":\"#EBF0F8\",\"linecolor\":\"#EBF0F8\",\"ticks\":\"\"},\"bgcolor\":\"white\",\"radialaxis\":{\"gridcolor\":\"#EBF0F8\",\"linecolor\":\"#EBF0F8\",\"ticks\":\"\"}},\"scene\":{\"xaxis\":{\"backgroundcolor\":\"white\",\"gridcolor\":\"#DFE8F3\",\"gridwidth\":2,\"linecolor\":\"#EBF0F8\",\"showbackground\":true,\"ticks\":\"\",\"zerolinecolor\":\"#EBF0F8\"},\"yaxis\":{\"backgroundcolor\":\"white\",\"gridcolor\":\"#DFE8F3\",\"gridwidth\":2,\"linecolor\":\"#EBF0F8\",\"showbackground\":true,\"ticks\":\"\",\"zerolinecolor\":\"#EBF0F8\"},\"zaxis\":{\"backgroundcolor\":\"white\",\"gridcolor\":\"#DFE8F3\",\"gridwidth\":2,\"linecolor\":\"#EBF0F8\",\"showbackground\":true,\"ticks\":\"\",\"zerolinecolor\":\"#EBF0F8\"}},\"shapedefaults\":{\"line\":{\"color\":\"#2a3f5f\"}},\"ternary\":{\"aaxis\":{\"gridcolor\":\"#DFE8F3\",\"linecolor\":\"#A2B1C6\",\"ticks\":\"\"},\"baxis\":{\"gridcolor\":\"#DFE8F3\",\"linecolor\":\"#A2B1C6\",\"ticks\":\"\"},\"bgcolor\":\"white\",\"caxis\":{\"gridcolor\":\"#DFE8F3\",\"linecolor\":\"#A2B1C6\",\"ticks\":\"\"}},\"title\":{\"x\":0.05},\"xaxis\":{\"automargin\":true,\"gridcolor\":\"#EBF0F8\",\"linecolor\":\"#EBF0F8\",\"ticks\":\"\",\"title\":{\"standoff\":15},\"zerolinecolor\":\"#EBF0F8\",\"zerolinewidth\":2},\"yaxis\":{\"automargin\":true,\"gridcolor\":\"#EBF0F8\",\"linecolor\":\"#EBF0F8\",\"ticks\":\"\",\"title\":{\"standoff\":15},\"zerolinecolor\":\"#EBF0F8\",\"zerolinewidth\":2}}},\"xaxis\":{\"anchor\":\"y\",\"domain\":[0.0,1.0]},\"yaxis\":{\"anchor\":\"x\",\"domain\":[0.625,1.0]},\"annotations\":[{\"font\":{\"size\":16},\"showarrow\":false,\"text\":\"Bar Comparison\",\"x\":0.5,\"xanchor\":\"center\",\"xref\":\"paper\",\"y\":1.0,\"yanchor\":\"bottom\",\"yref\":\"paper\"},{\"font\":{\"size\":16},\"showarrow\":false,\"text\":\"Results Table\",\"x\":0.5,\"xanchor\":\"center\",\"xref\":\"paper\",\"y\":0.375,\"yanchor\":\"bottom\",\"yref\":\"paper\"}],\"title\":{\"text\":\"IaaS vs PaaS Dashboard\"},\"barmode\":\"group\"},                        {\"responsive\": true}                    ).then(function(){\n",
              "                            \n",
              "var gd = document.getElementById('e193f98a-b5d1-4bf8-8637-f317dd623567');\n",
              "var x = new MutationObserver(function (mutations, observer) {{\n",
              "        var display = window.getComputedStyle(gd).display;\n",
              "        if (!display || display === 'none') {{\n",
              "            console.log([gd, 'removed!']);\n",
              "            Plotly.purge(gd);\n",
              "            observer.disconnect();\n",
              "        }}\n",
              "}});\n",
              "\n",
              "// Listen for the removal of the full notebook cells\n",
              "var notebookContainer = gd.closest('#notebook-container');\n",
              "if (notebookContainer) {{\n",
              "    x.observe(notebookContainer, {childList: true});\n",
              "}}\n",
              "\n",
              "// Listen for the clearing of the current output cell\n",
              "var outputEl = gd.closest('.output');\n",
              "if (outputEl) {{\n",
              "    x.observe(outputEl, {childList: true});\n",
              "}}\n",
              "\n",
              "                        })                };                            </script>        </div>\n",
              "</body>\n",
              "</html>"
            ]
          },
          "metadata": {}
        }
      ],
      "source": [
        "from plotly.subplots import make_subplots\n",
        "\n",
        "fig = make_subplots(\n",
        "    rows=2, cols=1,\n",
        "    subplot_titles=(\"Bar Comparison\", \"Results Table\"),\n",
        "    specs=[[{\"type\": \"bar\"}],\n",
        "           [{\"type\": \"table\"}]]\n",
        ")\n",
        "\n",
        "# Add bar chart\n",
        "fig.add_trace(go.Bar(name=\"IaaS\", x=categories, y=iaas_values, marker_color=\"blue\"), row=1, col=1)\n",
        "fig.add_trace(go.Bar(name=\"PaaS\", x=categories, y=paas_values, marker_color=\"green\"), row=1, col=1)\n",
        "\n",
        "# Add table\n",
        "fig.add_trace(go.Table(\n",
        "    header=dict(values=[\"Metric\", \"IaaS\", \"PaaS\"], fill_color=\"lightgrey\", align=\"center\"),\n",
        "    cells=dict(values=[categories, iaas_values, paas_values], align=\"center\")\n",
        "), row=2, col=1)\n",
        "\n",
        "# Layout\n",
        "fig.update_layout(title=\"IaaS vs PaaS Dashboard\", barmode=\"group\", template=\"plotly_white\")\n",
        "fig.show()\n"
      ]
    },
    {
      "cell_type": "code",
      "execution_count": 11,
      "metadata": {
        "colab": {
          "base_uri": "https://localhost:8080/"
        },
        "id": "S1xpdSMhxlto",
        "outputId": "0e5cb2bf-2e69-4f38-83f8-26b0ae1bec40"
      },
      "outputs": [
        {
          "output_type": "stream",
          "name": "stdout",
          "text": [
            "Requirement already satisfied: gradio in /usr/local/lib/python3.12/dist-packages (5.49.0)\n",
            "Requirement already satisfied: requests in /usr/local/lib/python3.12/dist-packages (2.32.4)\n",
            "Requirement already satisfied: psutil in /usr/local/lib/python3.12/dist-packages (5.9.5)\n",
            "Requirement already satisfied: plotly in /usr/local/lib/python3.12/dist-packages (5.24.1)\n",
            "Requirement already satisfied: pandas in /usr/local/lib/python3.12/dist-packages (2.2.2)\n",
            "Requirement already satisfied: aiofiles<25.0,>=22.0 in /usr/local/lib/python3.12/dist-packages (from gradio) (24.1.0)\n",
            "Requirement already satisfied: anyio<5.0,>=3.0 in /usr/local/lib/python3.12/dist-packages (from gradio) (4.11.0)\n",
            "Requirement already satisfied: brotli>=1.1.0 in /usr/local/lib/python3.12/dist-packages (from gradio) (1.1.0)\n",
            "Requirement already satisfied: fastapi<1.0,>=0.115.2 in /usr/local/lib/python3.12/dist-packages (from gradio) (0.118.2)\n",
            "Requirement already satisfied: ffmpy in /usr/local/lib/python3.12/dist-packages (from gradio) (0.6.2)\n",
            "Requirement already satisfied: gradio-client==1.13.3 in /usr/local/lib/python3.12/dist-packages (from gradio) (1.13.3)\n",
            "Requirement already satisfied: groovy~=0.1 in /usr/local/lib/python3.12/dist-packages (from gradio) (0.1.2)\n",
            "Requirement already satisfied: httpx<1.0,>=0.24.1 in /usr/local/lib/python3.12/dist-packages (from gradio) (0.28.1)\n",
            "Requirement already satisfied: huggingface-hub<2.0,>=0.33.5 in /usr/local/lib/python3.12/dist-packages (from gradio) (0.35.3)\n",
            "Requirement already satisfied: jinja2<4.0 in /usr/local/lib/python3.12/dist-packages (from gradio) (3.1.6)\n",
            "Requirement already satisfied: markupsafe<4.0,>=2.0 in /usr/local/lib/python3.12/dist-packages (from gradio) (3.0.3)\n",
            "Requirement already satisfied: numpy<3.0,>=1.0 in /usr/local/lib/python3.12/dist-packages (from gradio) (2.0.2)\n",
            "Requirement already satisfied: orjson~=3.0 in /usr/local/lib/python3.12/dist-packages (from gradio) (3.11.3)\n",
            "Requirement already satisfied: packaging in /usr/local/lib/python3.12/dist-packages (from gradio) (25.0)\n",
            "Requirement already satisfied: pillow<12.0,>=8.0 in /usr/local/lib/python3.12/dist-packages (from gradio) (11.3.0)\n",
            "Requirement already satisfied: pydantic<2.12,>=2.0 in /usr/local/lib/python3.12/dist-packages (from gradio) (2.11.10)\n",
            "Requirement already satisfied: pydub in /usr/local/lib/python3.12/dist-packages (from gradio) (0.25.1)\n",
            "Requirement already satisfied: python-multipart>=0.0.18 in /usr/local/lib/python3.12/dist-packages (from gradio) (0.0.20)\n",
            "Requirement already satisfied: pyyaml<7.0,>=5.0 in /usr/local/lib/python3.12/dist-packages (from gradio) (6.0.3)\n",
            "Requirement already satisfied: ruff>=0.9.3 in /usr/local/lib/python3.12/dist-packages (from gradio) (0.14.0)\n",
            "Requirement already satisfied: safehttpx<0.2.0,>=0.1.6 in /usr/local/lib/python3.12/dist-packages (from gradio) (0.1.6)\n",
            "Requirement already satisfied: semantic-version~=2.0 in /usr/local/lib/python3.12/dist-packages (from gradio) (2.10.0)\n",
            "Requirement already satisfied: starlette<1.0,>=0.40.0 in /usr/local/lib/python3.12/dist-packages (from gradio) (0.48.0)\n",
            "Requirement already satisfied: tomlkit<0.14.0,>=0.12.0 in /usr/local/lib/python3.12/dist-packages (from gradio) (0.13.3)\n",
            "Requirement already satisfied: typer<1.0,>=0.12 in /usr/local/lib/python3.12/dist-packages (from gradio) (0.19.2)\n",
            "Requirement already satisfied: typing-extensions~=4.0 in /usr/local/lib/python3.12/dist-packages (from gradio) (4.15.0)\n",
            "Requirement already satisfied: uvicorn>=0.14.0 in /usr/local/lib/python3.12/dist-packages (from gradio) (0.37.0)\n",
            "Requirement already satisfied: fsspec in /usr/local/lib/python3.12/dist-packages (from gradio-client==1.13.3->gradio) (2025.3.0)\n",
            "Requirement already satisfied: websockets<16.0,>=13.0 in /usr/local/lib/python3.12/dist-packages (from gradio-client==1.13.3->gradio) (15.0.1)\n",
            "Requirement already satisfied: charset_normalizer<4,>=2 in /usr/local/lib/python3.12/dist-packages (from requests) (3.4.3)\n",
            "Requirement already satisfied: idna<4,>=2.5 in /usr/local/lib/python3.12/dist-packages (from requests) (3.10)\n",
            "Requirement already satisfied: urllib3<3,>=1.21.1 in /usr/local/lib/python3.12/dist-packages (from requests) (2.5.0)\n",
            "Requirement already satisfied: certifi>=2017.4.17 in /usr/local/lib/python3.12/dist-packages (from requests) (2025.10.5)\n",
            "Requirement already satisfied: tenacity>=6.2.0 in /usr/local/lib/python3.12/dist-packages (from plotly) (8.5.0)\n",
            "Requirement already satisfied: python-dateutil>=2.8.2 in /usr/local/lib/python3.12/dist-packages (from pandas) (2.9.0.post0)\n",
            "Requirement already satisfied: pytz>=2020.1 in /usr/local/lib/python3.12/dist-packages (from pandas) (2025.2)\n",
            "Requirement already satisfied: tzdata>=2022.7 in /usr/local/lib/python3.12/dist-packages (from pandas) (2025.2)\n",
            "Requirement already satisfied: sniffio>=1.1 in /usr/local/lib/python3.12/dist-packages (from anyio<5.0,>=3.0->gradio) (1.3.1)\n",
            "Requirement already satisfied: httpcore==1.* in /usr/local/lib/python3.12/dist-packages (from httpx<1.0,>=0.24.1->gradio) (1.0.9)\n",
            "Requirement already satisfied: h11>=0.16 in /usr/local/lib/python3.12/dist-packages (from httpcore==1.*->httpx<1.0,>=0.24.1->gradio) (0.16.0)\n",
            "Requirement already satisfied: filelock in /usr/local/lib/python3.12/dist-packages (from huggingface-hub<2.0,>=0.33.5->gradio) (3.20.0)\n",
            "Requirement already satisfied: tqdm>=4.42.1 in /usr/local/lib/python3.12/dist-packages (from huggingface-hub<2.0,>=0.33.5->gradio) (4.67.1)\n",
            "Requirement already satisfied: hf-xet<2.0.0,>=1.1.3 in /usr/local/lib/python3.12/dist-packages (from huggingface-hub<2.0,>=0.33.5->gradio) (1.1.10)\n",
            "Requirement already satisfied: annotated-types>=0.6.0 in /usr/local/lib/python3.12/dist-packages (from pydantic<2.12,>=2.0->gradio) (0.7.0)\n",
            "Requirement already satisfied: pydantic-core==2.33.2 in /usr/local/lib/python3.12/dist-packages (from pydantic<2.12,>=2.0->gradio) (2.33.2)\n",
            "Requirement already satisfied: typing-inspection>=0.4.0 in /usr/local/lib/python3.12/dist-packages (from pydantic<2.12,>=2.0->gradio) (0.4.2)\n",
            "Requirement already satisfied: six>=1.5 in /usr/local/lib/python3.12/dist-packages (from python-dateutil>=2.8.2->pandas) (1.17.0)\n",
            "Requirement already satisfied: click>=8.0.0 in /usr/local/lib/python3.12/dist-packages (from typer<1.0,>=0.12->gradio) (8.3.0)\n",
            "Requirement already satisfied: shellingham>=1.3.0 in /usr/local/lib/python3.12/dist-packages (from typer<1.0,>=0.12->gradio) (1.5.4)\n",
            "Requirement already satisfied: rich>=10.11.0 in /usr/local/lib/python3.12/dist-packages (from typer<1.0,>=0.12->gradio) (13.9.4)\n",
            "Requirement already satisfied: markdown-it-py>=2.2.0 in /usr/local/lib/python3.12/dist-packages (from rich>=10.11.0->typer<1.0,>=0.12->gradio) (4.0.0)\n",
            "Requirement already satisfied: pygments<3.0.0,>=2.13.0 in /usr/local/lib/python3.12/dist-packages (from rich>=10.11.0->typer<1.0,>=0.12->gradio) (2.19.2)\n",
            "Requirement already satisfied: mdurl~=0.1 in /usr/local/lib/python3.12/dist-packages (from markdown-it-py>=2.2.0->rich>=10.11.0->typer<1.0,>=0.12->gradio) (0.1.2)\n"
          ]
        }
      ],
      "source": [
        "pip install gradio requests psutil plotly pandas"
      ]
    },
    {
      "cell_type": "code",
      "execution_count": 12,
      "metadata": {
        "colab": {
          "base_uri": "https://localhost:8080/",
          "height": 1000
        },
        "id": "YNHNfIMWxCfV",
        "outputId": "7e3e8ac2-603a-4966-ab18-bed39453d8a4"
      },
      "outputs": [
        {
          "output_type": "stream",
          "name": "stdout",
          "text": [
            "Colab notebook detected. This cell will run indefinitely so that you can see errors and logs. To turn off, set debug=False in launch().\n",
            "* Running on public URL: https://8cff2919402e0dfe60.gradio.live\n",
            "\n",
            "This share link expires in 1 week. For free permanent hosting and GPU upgrades, run `gradio deploy` from the terminal in the working directory to deploy to Hugging Face Spaces (https://huggingface.co/spaces)\n"
          ]
        },
        {
          "output_type": "display_data",
          "data": {
            "text/plain": [
              "<IPython.core.display.HTML object>"
            ],
            "text/html": [
              "<div><iframe src=\"https://8cff2919402e0dfe60.gradio.live\" width=\"100%\" height=\"500\" allow=\"autoplay; camera; microphone; clipboard-read; clipboard-write;\" frameborder=\"0\" allowfullscreen></iframe></div>"
            ]
          },
          "metadata": {}
        },
        {
          "output_type": "stream",
          "name": "stdout",
          "text": [
            "Benchmarking IaaS...\n",
            "Request 1: 3178.22 ms | CPU 21.60% | Memory 11.30%\n",
            "Request 2: 614.68 ms | CPU 2.45% | Memory 11.30%\n",
            "Request 3: 396.66 ms | CPU 1.25% | Memory 11.30%\n",
            "Request 4: 817.36 ms | CPU 1.50% | Memory 11.30%\n",
            "Request 5: 348.99 ms | CPU 2.90% | Memory 11.30%\n",
            "Request 6: 1135.07 ms | CPU 1.10% | Memory 11.30%\n",
            "Request 7: 922.70 ms | CPU 1.85% | Memory 11.30%\n",
            "Request 8: 818.40 ms | CPU 0.30% | Memory 11.30%\n",
            "Request 9: 1283.96 ms | CPU 1.55% | Memory 11.30%\n",
            "Request 10: 362.06 ms | CPU 0.70% | Memory 11.30%\n",
            "\n",
            "Benchmarking PaaS...\n",
            "Request 1: 46.38 ms | CPU 5.55% | Memory 11.30%\n",
            "Request 2: 33.61 ms | CPU 0.00% | Memory 11.30%\n",
            "Request 3: 30.13 ms | CPU 7.15% | Memory 11.30%\n",
            "Request 4: 32.48 ms | CPU 0.00% | Memory 11.30%\n",
            "Request 5: 33.40 ms | CPU 7.15% | Memory 11.30%\n",
            "Request 6: 35.52 ms | CPU 11.10% | Memory 11.30%\n",
            "Request 7: 31.85 ms | CPU 0.00% | Memory 11.30%\n",
            "Request 8: 31.96 ms | CPU 7.15% | Memory 11.30%\n",
            "Request 9: 34.34 ms | CPU 7.15% | Memory 11.30%\n",
            "Request 10: 34.16 ms | CPU 14.30% | Memory 11.30%\n",
            "\n",
            "=== Final Comparison ===\n",
            "IaaS -> Response: 987.81 ms | CPU: 3.52% | Memory: 11.30%\n",
            "PaaS -> Response: 34.38 ms | CPU: 5.96% | Memory: 11.30%\n",
            "Benchmarking IaaS...\n",
            "Request 1: 1049.09 ms | CPU 14.15% | Memory 11.20%\n",
            "Request 2: 886.70 ms | CPU 1.70% | Memory 11.20%\n",
            "Request 3: 1946.58 ms | CPU 2.30% | Memory 11.20%\n",
            "Request 4: 741.89 ms | CPU 0.35% | Memory 11.20%\n",
            "Request 5: 505.09 ms | CPU 2.45% | Memory 11.20%\n",
            "Request 6: 393.12 ms | CPU 0.65% | Memory 11.20%\n",
            "Request 7: 1550.50 ms | CPU 1.45% | Memory 11.20%\n",
            "Request 8: 1522.64 ms | CPU 8.45% | Memory 11.25%\n",
            "Request 9: 650.73 ms | CPU 28.80% | Memory 11.30%\n",
            "Request 10: 255.65 ms | CPU 30.00% | Memory 11.30%\n",
            "\n",
            "Benchmarking PaaS...\n",
            "Request 1: 30.60 ms | CPU 33.35% | Memory 11.30%\n",
            "Request 2: 33.78 ms | CPU 35.70% | Memory 11.30%\n",
            "Request 3: 36.02 ms | CPU 33.35% | Memory 11.15%\n",
            "Request 4: 42.97 ms | CPU 30.00% | Memory 11.00%\n",
            "Request 5: 33.17 ms | CPU 0.00% | Memory 11.00%\n",
            "Request 6: 33.65 ms | CPU 7.15% | Memory 11.00%\n",
            "Request 7: 28.82 ms | CPU 8.35% | Memory 11.00%\n",
            "Request 8: 29.84 ms | CPU 0.00% | Memory 11.00%\n",
            "Request 9: 30.45 ms | CPU 0.00% | Memory 11.00%\n",
            "Request 10: 27.99 ms | CPU 50.00% | Memory 11.00%\n",
            "\n",
            "=== Final Comparison ===\n",
            "IaaS -> Response: 950.20 ms | CPU: 9.03% | Memory: 11.22%\n",
            "PaaS -> Response: 32.73 ms | CPU: 19.79% | Memory: 11.07%\n",
            "Keyboard interruption in main thread... closing server.\n",
            "Killing tunnel 127.0.0.1:7860 <> https://8cff2919402e0dfe60.gradio.live\n"
          ]
        }
      ],
      "source": [
        "import gradio as gr\n",
        "import requests\n",
        "import time\n",
        "import psutil\n",
        "import plotly.graph_objects as go\n",
        "import pandas as pd\n",
        "\n",
        "def benchmark_service(url, num_requests=10):\n",
        "    response_times = []\n",
        "    cpu_usages = []\n",
        "    memory_usages = []\n",
        "\n",
        "    for i in range(num_requests):\n",
        "        # CPU and memory before request\n",
        "        cpu_before = psutil.cpu_percent(interval=None)\n",
        "        mem_before = psutil.virtual_memory().percent\n",
        "\n",
        "        # Send request and measure response time\n",
        "        start_time = time.time()\n",
        "        response = requests.get(url)\n",
        "        end_time = time.time()\n",
        "\n",
        "        # CPU and memory after request\n",
        "        cpu_after = psutil.cpu_percent(interval=None)\n",
        "        mem_after = psutil.virtual_memory().percent\n",
        "\n",
        "        # Calculate response time in ms\n",
        "        resp_time = (end_time - start_time) * 1000\n",
        "\n",
        "        # Save values\n",
        "        response_times.append(resp_time)\n",
        "        cpu_usages.append((cpu_before + cpu_after) / 2)\n",
        "        memory_usages.append((mem_before + mem_after) / 2)\n",
        "\n",
        "        print(f\"Request {i+1}: {resp_time:.2f} ms | CPU {cpu_usages[-1]:.2f}% | Memory {memory_usages[-1]:.2f}%\")\n",
        "\n",
        "    # Average values\n",
        "    avg_response = sum(response_times) / len(response_times)\n",
        "    avg_cpu = sum(cpu_usages) / len(cpu_usages)\n",
        "    avg_memory = sum(memory_usages) / len(memory_usages)\n",
        "\n",
        "    return avg_response, avg_cpu, avg_memory\n",
        "\n",
        "def benchmark_compare(iaas_url, paas_url):\n",
        "    print(\"Benchmarking IaaS...\")\n",
        "    iaas_results = benchmark_service(iaas_url, num_requests=10)\n",
        "\n",
        "    print(\"\\nBenchmarking PaaS...\")\n",
        "    paas_results = benchmark_service(paas_url, num_requests=10)\n",
        "\n",
        "    results = {\n",
        "        \"IaaS\": {\n",
        "            \"Response Time (ms)\": iaas_results[0],\n",
        "            \"CPU Usage (%)\": iaas_results[1],\n",
        "            \"Memory Usage (%)\": iaas_results[2]\n",
        "        },\n",
        "        \"PaaS\": {\n",
        "            \"Response Time (ms)\": paas_results[0],\n",
        "            \"CPU Usage (%)\": paas_results[1],\n",
        "            \"Memory Usage (%)\": paas_results[2]\n",
        "        }\n",
        "    }\n",
        "\n",
        "    # Create DataFrame for table\n",
        "    df = pd.DataFrame(results).round(2)\n",
        "\n",
        "    # Create bar chart\n",
        "    categories = [\"Response Time (ms)\", \"CPU Usage (%)\", \"Memory Usage (%)\"]\n",
        "    iaas_values = [results[\"IaaS\"][cat] for cat in categories]\n",
        "    paas_values = [results[\"PaaS\"][cat] for cat in categories]\n",
        "\n",
        "    fig = go.Figure(data=[\n",
        "        go.Bar(name=\"IaaS\", x=categories, y=iaas_values, marker_color=\"blue\"),\n",
        "        go.Bar(name=\"PaaS\", x=categories, y=paas_values, marker_color=\"green\")\n",
        "    ])\n",
        "\n",
        "    fig.update_layout(\n",
        "        title=\"IaaS vs PaaS Performance Comparison\",\n",
        "        xaxis_title=\"Metrics\",\n",
        "        yaxis_title=\"Values\",\n",
        "        barmode=\"group\",\n",
        "        template=\"plotly_white\"\n",
        "    )\n",
        "\n",
        "    print(\"\\n=== Final Comparison ===\")\n",
        "    print(f\"IaaS -> Response: {iaas_results[0]:.2f} ms | CPU: {iaas_results[1]:.2f}% | Memory: {iaas_results[2]:.2f}%\")\n",
        "    print(f\"PaaS -> Response: {paas_results[0]:.2f} ms | CPU: {paas_results[1]:.2f}% | Memory: {paas_results[2]:.2f}%\")\n",
        "\n",
        "    return fig, df\n",
        "\n",
        "with gr.Blocks(title=\"IaaS vs PaaS Benchmark\") as demo:\n",
        "    gr.Markdown(\"# IaaS vs PaaS Performance Benchmark\")\n",
        "    gr.Markdown(\"Enter the URLs for IaaS and PaaS services to compare response time, CPU, and memory usage over 10 requests.\")\n",
        "\n",
        "    with gr.Row():\n",
        "        iaas_input = gr.Textbox(\n",
        "            label=\"IaaS URL\",\n",
        "            value=\"https://httpbin.org/get\",\n",
        "            placeholder=\"Enter IaaS service URL (e.g., https://httpbin.org/get)\"\n",
        "        )\n",
        "        paas_input = gr.Textbox(\n",
        "            label=\"PaaS URL\",\n",
        "            value=\"https://jsonplaceholder.typicode.com/posts/1\",\n",
        "            placeholder=\"Enter PaaS API URL (e.g., https://jsonplaceholder.typicode.com/posts/1)\"\n",
        "        )\n",
        "\n",
        "    with gr.Row():\n",
        "        submit_btn = gr.Button(\"Run Benchmark\", variant=\"primary\")\n",
        "\n",
        "    with gr.Row():\n",
        "        output_graph = gr.Plot(label=\"Performance Comparison Chart\")\n",
        "\n",
        "    with gr.Row():\n",
        "        output_table = gr.Dataframe(label=\"Results Table\", interactive=False)\n",
        "\n",
        "    # Event handler\n",
        "    submit_btn.click(\n",
        "        fn=benchmark_compare,\n",
        "        inputs=[iaas_input, paas_input],\n",
        "        outputs=[output_graph, output_table]\n",
        "    )\n",
        "\n",
        "if __name__ == \"__main__\":\n",
        "    demo.launch(share=True, debug=True)"
      ]
    }
  ],
  "metadata": {
    "accelerator": "GPU",
    "colab": {
      "gpuType": "T4",
      "provenance": [],
      "include_colab_link": true
    },
    "kernelspec": {
      "display_name": "Python 3",
      "name": "python3"
    },
    "language_info": {
      "name": "python"
    }
  },
  "nbformat": 4,
  "nbformat_minor": 0
}